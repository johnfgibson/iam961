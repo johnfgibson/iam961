{
 "cells": [
  {
   "cell_type": "markdown",
   "metadata": {},
   "source": [
    "# SVD demo\n",
    "\n",
    "2025-09-17 IAM 961 University of New Hampshire, J. Gibson\n",
    "\n",
    "This Julia notebook demonstrates some key geometric properties of the singular value decomposition using a 2d example, i.e. a $2 \\times 2$ matrix that acts as a transformation\n",
    "on $\\mathbb{R}^2$. \n",
    "\n",
    "The SVD of a matrix $A$ is a factorization of the form $A = U \\Sigma V^*$, where $U$ and $V$ are unitary and $\\Sigma$ is diagonal, with non-negative and non-increasing diagonal elements. Key points illustrated here\n",
    "\n",
    " * The columns of $V$ form an orthonormal basis for the domain of the map $x \\rightarrow Ax$\n",
    " * The columns of $U$ form an orthonormal basis for the range of the same map.\n",
    " * $A$ maps the columns of $V$ into the columns of $U$, scaled by the singular values $\\sigma$, according to $A v_j = \\sigma_j u_j$.\n",
    " * $A$ maps the unit circle into an ellipsoid.\n",
    " * The principle axes of the ellipsoid are $\\sigma_j u_j$, the scaled columns of $U$.\n",
    " * The columns of $V$ are the preimages of these principle axes under the map $x \\rightarrow Ax$, i.e. $v_j = A^{-1} (\\sigma_j u_j)$.\n",
    " \n",
    " "
   ]
  },
  {
   "cell_type": "code",
   "execution_count": null,
   "metadata": {},
   "outputs": [],
   "source": [
    "using Plots\n",
    "using LinearAlgebra\n",
    "#using LaTeXStrings"
   ]
  },
  {
   "cell_type": "code",
   "execution_count": null,
   "metadata": {},
   "outputs": [],
   "source": [
    "# define a few convenience plotting functions\n",
    "function plotvector!(x, clr=\"black\", lbl=\"\")\n",
    "    plot!([0; x[1]], [0; x[2]], color=clr, arrow=:arrow, label=lbl)\n",
    "    plot!(xlabel=L\"x_1\", ylabel=\"x\\_2\")\n",
    "end\n",
    "\n",
    "function plotvector(x, clr=\"black\", lbl=\"\")\n",
    "    plot() # wipe out previous plot\n",
    "    plotvector!(x, clr, lbl)\n",
    "end"
   ]
  },
  {
   "cell_type": "markdown",
   "metadata": {},
   "source": [
    "## Illustrate map $x \\rightarrow Ax$"
   ]
  },
  {
   "cell_type": "code",
   "execution_count": null,
   "metadata": {},
   "outputs": [],
   "source": [
    "# construct some unit vector x\n",
    "x = [-1; 1]\n",
    "x = x/norm(x)"
   ]
  },
  {
   "cell_type": "code",
   "execution_count": null,
   "metadata": {},
   "outputs": [],
   "source": [
    "# define a matrix\n",
    "A = [1 2 ; 0 2]"
   ]
  },
  {
   "cell_type": "code",
   "execution_count": null,
   "metadata": {},
   "outputs": [],
   "source": [
    "# construct unit circle\n",
    "θ = range(0, 2π, length=100)\n",
    "C = [cos.(θ) sin.(θ)]'\n",
    "\n",
    "# Left plot: x and unit circle \n",
    "plotvector(x, \"black\", \"x\")\n",
    "plot!(C[1,:], C[2,:], linestyle=:dot,label=\"unit circle\")\n",
    "p1 = plot!(xlim=(-3,3), ylim=(-3,3), aspect_ratio=1, legend=:bottomright)\n",
    "\n",
    "# Right plot: x and the circle transformed by A\n",
    "AC = A*C\n",
    "Ax = A*x\n",
    "\n",
    "plotvector(Ax, \"black\", \"Ax\")\n",
    "plot!(AC[1,:], AC[2,:], linestyle=:dot,label=\"A * unit circle\")\n",
    "p2 = plot!(xlim=(-3,3), ylim=(-3,3), aspect_ratio=1, legend=:bottomright)\n",
    "\n",
    "plot(p1,p2, size=(600,300))"
   ]
  },
  {
   "cell_type": "markdown",
   "metadata": {},
   "source": [
    "## Compute and verify SVD"
   ]
  },
  {
   "cell_type": "code",
   "execution_count": null,
   "metadata": {},
   "outputs": [],
   "source": [
    "# compute SVD of A\n",
    "(U,σ,V) = svd(A);"
   ]
  },
  {
   "cell_type": "code",
   "execution_count": null,
   "metadata": {},
   "outputs": [],
   "source": [
    "U"
   ]
  },
  {
   "cell_type": "code",
   "execution_count": null,
   "metadata": {},
   "outputs": [],
   "source": [
    "σ"
   ]
  },
  {
   "cell_type": "code",
   "execution_count": null,
   "metadata": {},
   "outputs": [],
   "source": [
    "V"
   ]
  },
  {
   "cell_type": "code",
   "execution_count": null,
   "metadata": {},
   "outputs": [],
   "source": [
    "# verify that U Σ V' = A (here ' means hermitian conjugate)\n",
    "U*diagm(σ)*V'"
   ]
  },
  {
   "cell_type": "code",
   "execution_count": null,
   "metadata": {},
   "outputs": [],
   "source": [
    "A"
   ]
  },
  {
   "cell_type": "code",
   "execution_count": null,
   "metadata": {},
   "outputs": [],
   "source": [
    "A - U*diagm(σ)*V'"
   ]
  },
  {
   "cell_type": "code",
   "execution_count": null,
   "metadata": {},
   "outputs": [],
   "source": [
    "norm(A - U*diagm(σ)*V')"
   ]
  },
  {
   "cell_type": "markdown",
   "metadata": {},
   "source": [
    "## Plot left and right singular vectors\n",
    "\n",
    "Recall that $u_j = 1/\\sigma_j \\; A v_j$ or $\\sigma_j u_j = A v_j$. Thus the scaled columns of $U$ are\n",
    "the images of the columns of $V$ under the transformation $x \\rightarrow Ax$."
   ]
  },
  {
   "cell_type": "code",
   "execution_count": null,
   "metadata": {},
   "outputs": [],
   "source": [
    "# Left plot: columns of V with unit circle and x vector\n",
    "plotvector(x,\"black\", \"x\")\n",
    "plotvector!(V[:,1], \"red\", \"v1\")\n",
    "plotvector!(V[:,2], \"blue\", \"v2\")\n",
    "plot!(xlim=(-2,2), ylim=(-2,2), aspect_ratio=1, legend=:bottomright)\n",
    "p1=plot!(C[1,:], C[2,:], linestyle=:dot,label=\"unit circle\")\n",
    "\n",
    "# Right plot: columns of U scaled by σ with A times unit circle and A times x.\n",
    "# Note that the scaled columns of U are the principle axes of the ellipsoid.\n",
    "\n",
    "plotvector(Ax,\"black\", \"Ax\")\n",
    "plotvector!(σ[1]*U[:,1], \"red\", \"s1 u1 = A v1\")\n",
    "plotvector!(σ[2]*U[:,2], \"blue\", \"s2 u2 = A v2\")\n",
    "plot!(xlim=(-3,3), ylim=(-3,3), aspect_ratio=1, legend=:bottomright)\n",
    "p2 = plot!(AC[1,:], AC[2,:], linestyle=:dot,label=\"A * unit circle\")\n",
    "\n",
    "plot(p1,p2, size=(600,300))"
   ]
  },
  {
   "cell_type": "code",
   "execution_count": null,
   "metadata": {},
   "outputs": [],
   "source": [
    "U"
   ]
  },
  {
   "cell_type": "code",
   "execution_count": null,
   "metadata": {},
   "outputs": [],
   "source": [
    "U' # hermitian conjugate"
   ]
  },
  {
   "cell_type": "code",
   "execution_count": null,
   "metadata": {},
   "outputs": [],
   "source": [
    "U' * U"
   ]
  },
  {
   "cell_type": "code",
   "execution_count": null,
   "metadata": {},
   "outputs": [],
   "source": [
    "V' * V"
   ]
  },
  {
   "cell_type": "markdown",
   "metadata": {},
   "source": [
    "## Calculate Ax as sum of $\\sigma_j \\, u_j v_j^* \\,x$\n",
    "\n",
    "\\begin{equation*}\n",
    "A = \\sum_j \\sigma_j u_j v_j^*\n",
    "\\end{equation*}"
   ]
  },
  {
   "cell_type": "code",
   "execution_count": null,
   "metadata": {},
   "outputs": [],
   "source": [
    "A"
   ]
  },
  {
   "cell_type": "code",
   "execution_count": null,
   "metadata": {},
   "outputs": [],
   "source": [
    "σ[1]*U[:,1]*(V[:,1]') + σ[2]*U[:,2]*(V[:,2]')"
   ]
  },
  {
   "cell_type": "code",
   "execution_count": null,
   "metadata": {},
   "outputs": [],
   "source": [
    "A*x"
   ]
  },
  {
   "cell_type": "code",
   "execution_count": null,
   "metadata": {},
   "outputs": [],
   "source": [
    "σ[1]*U[:,1]*(V[:,1]'*x) + σ[2]*U[:,2]*(V[:,2]'*x)"
   ]
  },
  {
   "cell_type": "markdown",
   "metadata": {},
   "source": [
    "### Comparison of SVD to eigenvalues, eigenvectors"
   ]
  },
  {
   "cell_type": "code",
   "execution_count": null,
   "metadata": {},
   "outputs": [],
   "source": [
    "eigen(A)"
   ]
  },
  {
   "cell_type": "code",
   "execution_count": null,
   "metadata": {},
   "outputs": [],
   "source": [
    "σ"
   ]
  },
  {
   "cell_type": "code",
   "execution_count": null,
   "metadata": {},
   "outputs": [],
   "source": []
  }
 ],
 "metadata": {
  "kernelspec": {
   "display_name": "Julia 1.11.7",
   "language": "julia",
   "name": "julia-1.11"
  },
  "language_info": {
   "file_extension": ".jl",
   "mimetype": "application/julia",
   "name": "julia",
   "version": "1.11.7"
  }
 },
 "nbformat": 4,
 "nbformat_minor": 4
}
