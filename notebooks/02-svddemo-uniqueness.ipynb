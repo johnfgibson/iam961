{
 "cells": [
  {
   "cell_type": "markdown",
   "id": "f70d30dc",
   "metadata": {},
   "source": [
    "# SVD demo: uniqueness and indeterminacy\n",
    "\n",
    "2025-09-18 IAM 961 University of New Hampshire, J. Gibson\n",
    "\n",
    "The singular value decomposition of a matrix, $A = U \\Sigma V^*$, is unique (up to constant factors of unit magnitude in the columns of $U$ and $V$) if the singular values $\\sigma_j$ are distinct. If two singular values are equal, then there is indeterminacy in the corresponding columns of $U$ and $V$. This notebook demonstrates this behavior with several examples. \n",
    "\n",
    "## Case 1: distinct singular values $\\Rightarrow$ unique SVD\n",
    "\n",
    "**Step 1.** Construct a real-valued matrix $A$ with known SVD $A = \\bar{U} \\bar{\\Sigma} \\bar{V}^*$ and \n",
    "distinct singular values $\\bar{\\sigma}_1 > \\bar{\\sigma_2} > \\bar{\\sigma_3} > \\ldots$. Do so by obtaining\n",
    "random unitary $U,V$ from QR decomposition of random matrix with normal distribution\n",
    "and assigning distinct singular values."
   ]
  },
  {
   "cell_type": "code",
   "execution_count": null,
   "id": "351b0e1a",
   "metadata": {},
   "outputs": [],
   "source": [
    "using LinearAlgebra\n",
    "\n",
    "m=4\n",
    "Ū,tmp = qr(randn(m,m))   # Q,R = qr(A); here we store unitary Q as Û and discard up-tri R\n",
    "V̄,tmp = qr(randn(m,m));\n",
    "\n",
    "σ̄̄  = [8.0, 3.0, 2/3, 0.1]"
   ]
  },
  {
   "cell_type": "code",
   "execution_count": null,
   "id": "ca3b855b-afe6-4061-9ee3-d88ad9da4dd5",
   "metadata": {},
   "outputs": [],
   "source": [
    "Ū' * Ū  # verify that Ū is unitary"
   ]
  },
  {
   "cell_type": "code",
   "execution_count": null,
   "id": "56255537-1af1-453f-9eac-041f482d9db7",
   "metadata": {},
   "outputs": [],
   "source": [
    "V̄' * V̄  # verify that V̄ is unitary"
   ]
  },
  {
   "cell_type": "code",
   "execution_count": null,
   "id": "b520f859",
   "metadata": {},
   "outputs": [],
   "source": [
    "A = Ū*diagm(σ̄ )*V̄'  # build A from Ū, Σ̄, V̄"
   ]
  },
  {
   "cell_type": "markdown",
   "id": "984694f9",
   "metadata": {},
   "source": [
    "**Step 2.** Calculate a numerical SVD of $A$. Show that the numerical SVD is the same as the SVD by construction.\n",
    "\n",
    "Let the numerical SVD be $A = U \\Sigma V^*$ (without overbars). Then observe $U = \\bar{U}, \\sigma_i = \\bar{\\sigma_i}, V = \\bar{V}$ up to signs  in columns of $U,V$.\n",
    "\n"
   ]
  },
  {
   "cell_type": "code",
   "execution_count": null,
   "id": "eadb2b19",
   "metadata": {},
   "outputs": [],
   "source": [
    "U,σ,V = svd(A);\n",
    "\n",
    "σ   # same as σ̄"
   ]
  },
  {
   "cell_type": "code",
   "execution_count": null,
   "id": "d0d9f6eb-73ac-42eb-96cd-dfb62627f883",
   "metadata": {},
   "outputs": [],
   "source": [
    "σ̄"
   ]
  },
  {
   "cell_type": "code",
   "execution_count": null,
   "id": "64a79fec",
   "metadata": {},
   "outputs": [],
   "source": [
    "U   # same as Ū, up to signs of columns"
   ]
  },
  {
   "cell_type": "code",
   "execution_count": null,
   "id": "fd4bfecc",
   "metadata": {},
   "outputs": [],
   "source": [
    "Ū[:,:] "
   ]
  },
  {
   "cell_type": "code",
   "execution_count": null,
   "id": "44801f20",
   "metadata": {},
   "outputs": [],
   "source": [
    "V   # same as V̄, up to signs of columns"
   ]
  },
  {
   "cell_type": "code",
   "execution_count": null,
   "id": "bc85b2ff",
   "metadata": {},
   "outputs": [],
   "source": [
    "V̄[:,:] "
   ]
  },
  {
   "cell_type": "markdown",
   "id": "f16b814d",
   "metadata": {},
   "source": [
    "Change signs in corresponding columns of $U,V$, show it still forms SVD of $A$."
   ]
  },
  {
   "cell_type": "code",
   "execution_count": null,
   "id": "718a73d3",
   "metadata": {},
   "outputs": [],
   "source": [
    "U[:,3] = -U[:,3]\n",
    "V[:,3] = -V[:,3];\n",
    "\n",
    "U*diagm(σ)*V'"
   ]
  },
  {
   "cell_type": "markdown",
   "id": "8e40ecee",
   "metadata": {},
   "source": [
    "**Step 3:** Just for fun, show that $A$ can be expressed as a sum of outer product matrices\n",
    "    $A = U \\Sigma V^* = \\sigma_1 u_1 v_1^* + \\sigma_2 u_2 v_2^* + \\ldots$."
   ]
  },
  {
   "cell_type": "code",
   "execution_count": null,
   "id": "76ea3f61",
   "metadata": {},
   "outputs": [],
   "source": [
    "A"
   ]
  },
  {
   "cell_type": "code",
   "execution_count": null,
   "id": "f90bd53e",
   "metadata": {},
   "outputs": [],
   "source": [
    "U*diagm(σ)*V'"
   ]
  },
  {
   "cell_type": "code",
   "execution_count": null,
   "id": "6a708031",
   "metadata": {},
   "outputs": [],
   "source": [
    "σ[1]*(U[:,1]*V[:,1]') + σ[2]*(U[:,2]*V[:,2]') + σ[3]*(U[:,3]*V[:,3]') + σ[4]*(U[:,4]*V[:,4]') "
   ]
  },
  {
   "cell_type": "markdown",
   "id": "20baed8c",
   "metadata": {},
   "source": [
    "## Case 2: repeated singular values $\\Rightarrow$ indeterminate SVD\n",
    "\n",
    "**Step 1:** Construct a real-valued matrix $A$ with known SVD $A = \\bar{U} \\bar{\\Sigma} \\bar{V}^*$ and \n",
    "a pair of repeated singular values $\\bar{\\sigma}_1 \\geq \\bar{\\sigma_2} = \\bar{\\sigma_3} \\geq \\ldots$.\n",
    "\n",
    "Show that $A = U \\Sigma V^*$, and $\\Sigma = \\bar{\\Sigma}$, but that cols 2 and 3 of $U,V$ are different than those\n",
    "of $\\bar{U}, \\bar{V}$."
   ]
  },
  {
   "cell_type": "code",
   "execution_count": null,
   "id": "f81c6079",
   "metadata": {},
   "outputs": [],
   "source": [
    "σ̄ = [8.0, 3.0, 3.0, 0.5]"
   ]
  },
  {
   "cell_type": "code",
   "execution_count": null,
   "id": "d03f5bb6",
   "metadata": {},
   "outputs": [],
   "source": [
    "A = Ū * diagm(σ̄ )* V̄'"
   ]
  },
  {
   "cell_type": "markdown",
   "id": "8c61241e-ebee-4eb1-a7cf-3f99e8e36c29",
   "metadata": {},
   "source": [
    "**Step 2:** Calculate and verify a numeric SVD of $A$, giving a numerical factorization $A = U \\Sigma V^*$."
   ]
  },
  {
   "cell_type": "code",
   "execution_count": null,
   "id": "77c9310b-b8c4-4f3a-af47-e986596423fb",
   "metadata": {},
   "outputs": [],
   "source": [
    "U,σ,V = svd(A);\n",
    "\n",
    "U*diagm(σ) * V'"
   ]
  },
  {
   "cell_type": "code",
   "execution_count": null,
   "id": "fd9771b5-63bd-46bc-9875-b6c05ec6c018",
   "metadata": {},
   "outputs": [],
   "source": [
    "norm(A-U*diagm(σ) * V')"
   ]
  },
  {
   "cell_type": "markdown",
   "id": "5f9f5643-2bcd-4c26-b5d9-8fcad0eb11d9",
   "metadata": {},
   "source": [
    "**Step 3:** Show that the original and numerical SVD differ in cols 2 and 3 of $U$ and same for $V$.\n",
    "\n",
    "This indeterminacy in the SVD factorization is due to the repeated singular values $\\sigma_2 = \\sigma_3$."
   ]
  },
  {
   "cell_type": "code",
   "execution_count": null,
   "id": "b4de7a01",
   "metadata": {},
   "outputs": [],
   "source": [
    "Ū[:,:]"
   ]
  },
  {
   "cell_type": "code",
   "execution_count": null,
   "id": "ada60323",
   "metadata": {},
   "outputs": [],
   "source": [
    "U"
   ]
  },
  {
   "cell_type": "markdown",
   "id": "17d1f7b6",
   "metadata": {},
   "source": [
    "**Step 4:** Show that $u_2, u_3 \\in \\text{span} \\{\\bar{u}_2, \\bar{u}_3\\}$ and same for $v$'s.\n",
    "To make the equations easier to read we'll rewrite $\\bar{u}_2, \\bar{u}_3$ as $w_2, w_3$. \n",
    "\n",
    "If $u_3$ is in the span of $w_2, w_3$, then \n",
    "\\begin{align*}\n",
    "u_3 &= c_2 w_2 + c_3 w_3\n",
    "\\end{align*}\n",
    "for some constants $c_1, c_2$. The values of the constants can be determined by projecting this equation \n",
    "onto $w_2$ and $w_3$ respectively. For example, project the equation onto $w_2$ by multiplying by $w_2^*$\n",
    "from the left (taking the inner product of both sides with $w_2$).\n",
    "\\begin{align*}\n",
    "w_2^* u_3 &= w_2^* (c_2 w_2 + c_3 w_3) \\\\\n",
    "   &= c_2 w_2^* w_2 + c_3 w_3^* w_3\n",
    "\\end{align*}\n",
    "Since $w_2, w_3$ are orthonormal, $w_2^* w_2 = 1$ and $w_2^* w_3 = 0$, so\n",
    "\\begin{align*}\n",
    "w_2^* u_3 &= c_2\n",
    "\\end{align*}\n",
    "Similarly $c_3 = w_3^* u_3$ and thus\n",
    "\\begin{align*}\n",
    "u_2 &= (w_2^* u_2) w_2 + (w_3^* u_2) w_3\n",
    "\\end{align*}\n",
    "Below we verify this relation by computing the RHS and comparing to the LHS."
   ]
  },
  {
   "cell_type": "code",
   "execution_count": null,
   "id": "3a3f7750-037b-4e13-9d58-e05295f27f94",
   "metadata": {},
   "outputs": [],
   "source": [
    "# extract the needed columns of U, Ū\n",
    "\n",
    "w₂ = Ū[:,2]\n",
    "w₃ = Ū[:,3]\n",
    "\n",
    "u₂ = U[:,2]\n",
    "u₃ = U[:,3];\n",
    "\n",
    "# compute RHS of above eqn\n",
    "\n",
    "(w₂' * u₂)*w₂ + (w₃' * u₂)*w₃"
   ]
  },
  {
   "cell_type": "code",
   "execution_count": null,
   "id": "905ca43d",
   "metadata": {},
   "outputs": [],
   "source": [
    "u₂"
   ]
  },
  {
   "cell_type": "code",
   "execution_count": null,
   "id": "715a2054",
   "metadata": {},
   "outputs": [],
   "source": [
    "# do the same for u₃ in one step, showing norm(LHS-RHS) = 0, approximately\n",
    "\n",
    "norm(u3 - ((w2' * u3)*w2 + (w3' * u3)*w3))"
   ]
  },
  {
   "cell_type": "markdown",
   "id": "0cfa9d93",
   "metadata": {},
   "source": [
    "### Complex SVD with distinct singular values\n",
    "\n",
    "For complex matrices, the uniqueness of the SVD is somewhat disguised by the \n",
    "arbitrary complex constants of unit magnitude in the columns of $U$ and $V$. \n",
    "\n",
    "In this example, we construct a complex matrix $A$ with known SVD $A = \\bar{U} \\bar{\\Sigma} \\bar{V}^*$,\n",
    "compute its numerical SVD as $A = U \\Sigma V^*$, and then show that, though $\\bar{U} \\neq U$ and $\\bar{V} \\neq V$,\n",
    "their columns are related by $u_j = \\alpha_j \\bar u_j$ and $v_j = (1/\\bar{\\alpha}_j) \\bar v_j$ for some complex constants\n",
    "$\\alpha_j$ of unit magnitude. "
   ]
  },
  {
   "cell_type": "code",
   "execution_count": null,
   "id": "19d2416c",
   "metadata": {},
   "outputs": [],
   "source": [
    "Ū, tmp = qr(randn(4,4) + im*randn(4,4))\n",
    "V̄, tmp = qr(randn(4,4) + im*randn(4,4))\n",
    "\n",
    "σ̄  = [10; 6.7; 3.1; 0.2]\n",
    "\n",
    "A = Ū*diagm(σ̄ )*V̄'"
   ]
  },
  {
   "cell_type": "code",
   "execution_count": null,
   "id": "5533f3a2-e4b2-41cf-957d-b05c7f89c881",
   "metadata": {},
   "outputs": [],
   "source": [
    "U, σ, V = svd(A);"
   ]
  },
  {
   "cell_type": "code",
   "execution_count": null,
   "id": "e442da0c-5115-4fb0-8941-57773e35843f",
   "metadata": {},
   "outputs": [],
   "source": [
    "U"
   ]
  },
  {
   "cell_type": "code",
   "execution_count": null,
   "id": "78f21743-50b4-4a1c-945e-52a72a441f50",
   "metadata": {},
   "outputs": [],
   "source": [
    "Ū[:,:]  "
   ]
  },
  {
   "cell_type": "markdown",
   "id": "669f770f-78e3-4fd6-b506-97c43ba80bac",
   "metadata": {},
   "source": [
    "Note $U \\neq \\bar{U}$! But $u_2 = \\alpha_2 \\bar{u}_2$ for some unit-magnitude $\\alpha_2$."
   ]
  },
  {
   "cell_type": "code",
   "execution_count": null,
   "id": "9af40cc6-d40e-4861-8b05-af8385cae92c",
   "metadata": {},
   "outputs": [],
   "source": [
    "U[:,2] ./ Ū[:,2]"
   ]
  },
  {
   "cell_type": "code",
   "execution_count": null,
   "id": "aca76804-8bef-45f5-bb49-1b37f94410b4",
   "metadata": {},
   "outputs": [],
   "source": [
    "α₂ = U[1,2] ./ Ū[1,2]"
   ]
  },
  {
   "cell_type": "code",
   "execution_count": null,
   "id": "98119be8-18ad-49fa-bf0d-184b6937156c",
   "metadata": {},
   "outputs": [],
   "source": [
    "abs(α₂)"
   ]
  },
  {
   "cell_type": "code",
   "execution_count": null,
   "id": "6d35a1cb-78b3-4ee2-b4a7-8a6106c3b202",
   "metadata": {},
   "outputs": [],
   "source": [
    "U[:,2]"
   ]
  },
  {
   "cell_type": "code",
   "execution_count": null,
   "id": "a5acc209-1ed0-4ea2-81b5-8f9e00124d93",
   "metadata": {},
   "outputs": [],
   "source": [
    "α₂ * Ū[:,2]"
   ]
  },
  {
   "cell_type": "markdown",
   "id": "ad82f8af-b8bb-423d-8151-ca255d5c6e3d",
   "metadata": {},
   "source": [
    "And  $V \\neq \\bar{V}$, but $v_2 = (1/\\bar{\\alpha}_2) \\bar{v}_2$. (The bar on $\\alpha_2$ means complex conjugate.)"
   ]
  },
  {
   "cell_type": "code",
   "execution_count": null,
   "id": "8bfcc07f-3448-4f46-8171-ffbd328f8758",
   "metadata": {},
   "outputs": [],
   "source": [
    "V[:,2]"
   ]
  },
  {
   "cell_type": "code",
   "execution_count": null,
   "id": "f86d7f34-5872-456e-9575-570911abf1a4",
   "metadata": {},
   "outputs": [],
   "source": [
    "conj(1/α₂) * V̄[:,2]"
   ]
  }
 ],
 "metadata": {
  "kernelspec": {
   "display_name": "Julia 1.11.7",
   "language": "julia",
   "name": "julia-1.11"
  },
  "language_info": {
   "file_extension": ".jl",
   "mimetype": "application/julia",
   "name": "julia",
   "version": "1.11.7"
  }
 },
 "nbformat": 4,
 "nbformat_minor": 5
}
