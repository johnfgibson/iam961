{
 "cells": [
  {
   "cell_type": "markdown",
   "id": "f70d30dc",
   "metadata": {},
   "source": [
    "# SVD demo: uniqueness and indeterminacy\n",
    "\n",
    "2025-09-18 IAM 961 University of New Hampshire, J. Gibson\n",
    "\n",
    "The singular value decomposition of a matrix, $A = U \\Sigma V^*$, is unique (up to constant factors of unit magnitude in the columns of $U$ and $V$) if the singular values $\\sigma_j$ are distinct. If two singular values are equal, then there is indeterminacy in the corresponding columns of $U$ and $V$. This notebook demonstrates this behavior with several examples. \n",
    "\n",
    "## Case 1: distinct singular values $\\Rightarrow$ unique SVD\n",
    "\n",
    "**Step 1.** Construct a real-valued matrix $A$ with known SVD $A = \\bar{U} \\bar{\\Sigma} \\bar{V}^*$ and \n",
    "distinct singular values $\\bar{\\sigma}_1 > \\bar{\\sigma_2} > \\bar{\\sigma_3} > \\ldots$. Do so by obtaining\n",
    "random unitary $U,V$ from QR decomposition of random matrix with normal distribution\n",
    "and assigning distinct singular values."
   ]
  },
  {
   "cell_type": "code",
   "execution_count": 1,
   "id": "351b0e1a",
   "metadata": {},
   "outputs": [
    {
     "data": {
      "text/plain": [
       "4-element Vector{Float64}:\n",
       " 8.0\n",
       " 3.0\n",
       " 0.6666666666666666\n",
       " 0.1"
      ]
     },
     "execution_count": 1,
     "metadata": {},
     "output_type": "execute_result"
    }
   ],
   "source": [
    "using LinearAlgebra\n",
    "\n",
    "m=4\n",
    "Ū,tmp = qr(randn(m,m))   # Q,R = qr(A); here we store unitary Q as Û and discard up-tri R\n",
    "V̄,tmp = qr(randn(m,m));\n",
    "\n",
    "σ̄ = [8.0, 3.0, 2/3, 0.1]"
   ]
  },
  {
   "cell_type": "code",
   "execution_count": 2,
   "id": "ca3b855b-afe6-4061-9ee3-d88ad9da4dd5",
   "metadata": {},
   "outputs": [
    {
     "data": {
      "text/plain": [
       "4×4 Matrix{Float64}:\n",
       "  1.0          -1.11022e-16   0.0          2.77556e-17\n",
       "  0.0           1.0          -1.11022e-16  0.0\n",
       " -5.55112e-17   1.11022e-16   1.0          5.55112e-16\n",
       " -5.55112e-17   2.22045e-16   3.88578e-16  1.0"
      ]
     },
     "execution_count": 2,
     "metadata": {},
     "output_type": "execute_result"
    }
   ],
   "source": [
    "Ū' * Ū  # verify that Ū is unitary"
   ]
  },
  {
   "cell_type": "code",
   "execution_count": 3,
   "id": "56255537-1af1-453f-9eac-041f482d9db7",
   "metadata": {},
   "outputs": [
    {
     "data": {
      "text/plain": [
       "4×4 Matrix{Float64}:\n",
       "  1.0          -1.66533e-16   2.22045e-16  2.22045e-16\n",
       " -5.55112e-17   1.0          -1.66533e-16  0.0\n",
       "  0.0          -1.11022e-16   1.0          0.0\n",
       "  0.0          -5.55112e-17  -1.11022e-16  1.0"
      ]
     },
     "execution_count": 3,
     "metadata": {},
     "output_type": "execute_result"
    }
   ],
   "source": [
    "V̄' * V̄  # verify that V̄ is unitary"
   ]
  },
  {
   "cell_type": "code",
   "execution_count": 4,
   "id": "b520f859",
   "metadata": {},
   "outputs": [
    {
     "data": {
      "text/plain": [
       "4×4 Matrix{Float64}:\n",
       "  2.91193  -0.682836  -4.43362  -1.3536\n",
       " -1.71631   1.00203    2.36515   1.65535\n",
       "  2.377    -2.24492   -1.36714  -1.83219\n",
       " -1.0863   -0.902655   3.46899   0.889516"
      ]
     },
     "execution_count": 4,
     "metadata": {},
     "output_type": "execute_result"
    }
   ],
   "source": [
    "A = Ū*diagm(σ̄)*V̄'  # build A from Ū, Σ̄, V̄"
   ]
  },
  {
   "cell_type": "code",
   "execution_count": 5,
   "id": "19ee05d0-3f5e-481f-a475-ebeb354a2f70",
   "metadata": {},
   "outputs": [
    {
     "data": {
      "text/plain": [
       "0.0"
      ]
     },
     "execution_count": 5,
     "metadata": {},
     "output_type": "execute_result"
    }
   ],
   "source": [
    "norm(A - Ū*diagm(σ̄)*V̄')"
   ]
  },
  {
   "cell_type": "markdown",
   "id": "984694f9",
   "metadata": {},
   "source": [
    "**Step 2.** Calculate a numerical SVD of $A$. Show that the numerical SVD is the same as the SVD by construction.\n",
    "\n",
    "Let the numerical SVD be $A = U \\Sigma V^*$ (without overbars). Then observe $U = \\bar{U}, \\sigma_i = \\bar{\\sigma_i}, V = \\bar{V}$ up to signs  in columns of $U,V$.\n",
    "\n"
   ]
  },
  {
   "cell_type": "code",
   "execution_count": 6,
   "id": "eadb2b19",
   "metadata": {},
   "outputs": [
    {
     "data": {
      "text/plain": [
       "4-element Vector{Float64}:\n",
       " 7.999999999999998\n",
       " 3.0000000000000013\n",
       " 0.6666666666666666\n",
       " 0.0999999999999993"
      ]
     },
     "execution_count": 6,
     "metadata": {},
     "output_type": "execute_result"
    }
   ],
   "source": [
    "U,σ,V = svd(A);\n",
    "\n",
    "σ   # same as σ̄"
   ]
  },
  {
   "cell_type": "code",
   "execution_count": 7,
   "id": "d0d9f6eb-73ac-42eb-96cd-dfb62627f883",
   "metadata": {},
   "outputs": [
    {
     "data": {
      "text/plain": [
       "4-element Vector{Float64}:\n",
       " 8.0\n",
       " 3.0\n",
       " 0.6666666666666666\n",
       " 0.1"
      ]
     },
     "execution_count": 7,
     "metadata": {},
     "output_type": "execute_result"
    }
   ],
   "source": [
    "σ̄"
   ]
  },
  {
   "cell_type": "code",
   "execution_count": 8,
   "id": "64a79fec",
   "metadata": {},
   "outputs": [
    {
     "data": {
      "text/plain": [
       "4×4 Matrix{Float64}:\n",
       " -0.684214   0.172019   0.681816    0.193357\n",
       "  0.43049    0.173221   0.578533   -0.6708\n",
       " -0.414793  -0.737763  -0.0808302  -0.526421\n",
       "  0.417703  -0.629373   0.440332    0.485306"
      ]
     },
     "execution_count": 8,
     "metadata": {},
     "output_type": "execute_result"
    }
   ],
   "source": [
    "U   # same as Ū, up to signs of columns"
   ]
  },
  {
   "cell_type": "code",
   "execution_count": 9,
   "id": "fd4bfecc",
   "metadata": {},
   "outputs": [
    {
     "data": {
      "text/plain": [
       "4×4 Matrix{Float64}:\n",
       " -0.684214  -0.172019  -0.681816    0.193357\n",
       "  0.43049   -0.173221  -0.578533   -0.6708\n",
       " -0.414793   0.737763   0.0808302  -0.526421\n",
       "  0.417703   0.629373  -0.440332    0.485306"
      ]
     },
     "execution_count": 9,
     "metadata": {},
     "output_type": "execute_result"
    }
   ],
   "source": [
    "Ū[:,:] "
   ]
  },
  {
   "cell_type": "code",
   "execution_count": 10,
   "id": "44801f20",
   "metadata": {},
   "outputs": [
    {
     "data": {
      "text/plain": [
       "4×4 adjoint(::Matrix{Float64}) with eltype Float64:\n",
       " -0.521369  -0.288789   0.483      -0.641472\n",
       "  0.181588   0.760144  -0.152806   -0.604861\n",
       "  0.758476  -0.509214  -0.0248782  -0.405952\n",
       "  0.346287   0.281927   0.861825    0.240542"
      ]
     },
     "execution_count": 10,
     "metadata": {},
     "output_type": "execute_result"
    }
   ],
   "source": [
    "V   # same as V̄, up to signs of columns"
   ]
  },
  {
   "cell_type": "code",
   "execution_count": 11,
   "id": "bc85b2ff",
   "metadata": {},
   "outputs": [
    {
     "data": {
      "text/plain": [
       "4×4 Matrix{Float64}:\n",
       " -0.521369   0.288789  -0.483      -0.641472\n",
       "  0.181588  -0.760144   0.152806   -0.604861\n",
       "  0.758476   0.509214   0.0248782  -0.405952\n",
       "  0.346287  -0.281927  -0.861825    0.240542"
      ]
     },
     "execution_count": 11,
     "metadata": {},
     "output_type": "execute_result"
    }
   ],
   "source": [
    "V̄[:,:] "
   ]
  },
  {
   "cell_type": "code",
   "execution_count": 12,
   "id": "d2ea56c2-f229-4a33-baf8-1f8afc4a5a5f",
   "metadata": {},
   "outputs": [
    {
     "data": {
      "text/plain": [
       "4×4 Matrix{Float64}:\n",
       "  2.91193  -0.682836  -4.43362  -1.3536\n",
       " -1.71631   1.00203    2.36515   1.65535\n",
       "  2.377    -2.24492   -1.36714  -1.83219\n",
       " -1.0863   -0.902655   3.46899   0.889516"
      ]
     },
     "execution_count": 12,
     "metadata": {},
     "output_type": "execute_result"
    }
   ],
   "source": [
    "U*diagm(σ)*V'"
   ]
  },
  {
   "cell_type": "code",
   "execution_count": 13,
   "id": "bed955fc-0d98-45e3-a439-82caec3c1a6a",
   "metadata": {},
   "outputs": [
    {
     "data": {
      "text/plain": [
       "4×4 Matrix{Float64}:\n",
       "  2.91193  -0.682836  -4.43362  -1.3536\n",
       " -1.71631   1.00203    2.36515   1.65535\n",
       "  2.377    -2.24492   -1.36714  -1.83219\n",
       " -1.0863   -0.902655   3.46899   0.889516"
      ]
     },
     "execution_count": 13,
     "metadata": {},
     "output_type": "execute_result"
    }
   ],
   "source": [
    "A"
   ]
  },
  {
   "cell_type": "code",
   "execution_count": 14,
   "id": "1fd34fb8-9c63-4ffa-9d73-023aaa41b788",
   "metadata": {},
   "outputs": [
    {
     "data": {
      "text/plain": [
       "4.643068966264981e-15"
      ]
     },
     "execution_count": 14,
     "metadata": {},
     "output_type": "execute_result"
    }
   ],
   "source": [
    "norm(A - U*diagm(σ)*V')"
   ]
  },
  {
   "cell_type": "markdown",
   "id": "f16b814d",
   "metadata": {},
   "source": [
    "Change signs in corresponding columns of $U,V$, show it still forms SVD of $A$."
   ]
  },
  {
   "cell_type": "code",
   "execution_count": 15,
   "id": "718a73d3",
   "metadata": {},
   "outputs": [
    {
     "data": {
      "text/plain": [
       "4×4 Matrix{Float64}:\n",
       "  2.91193  -0.682836  -4.43362  -1.3536\n",
       " -1.71631   1.00203    2.36515   1.65535\n",
       "  2.377    -2.24492   -1.36714  -1.83219\n",
       " -1.0863   -0.902655   3.46899   0.889516"
      ]
     },
     "execution_count": 15,
     "metadata": {},
     "output_type": "execute_result"
    }
   ],
   "source": [
    "U[:,3] = -U[:,3]\n",
    "V[:,3] = -V[:,3];\n",
    "\n",
    "U*diagm(σ)*V'"
   ]
  },
  {
   "cell_type": "code",
   "execution_count": 16,
   "id": "d64a4c5f-463d-436d-91c0-6520d5aa5191",
   "metadata": {},
   "outputs": [
    {
     "data": {
      "text/plain": [
       "4.643068966264981e-15"
      ]
     },
     "execution_count": 16,
     "metadata": {},
     "output_type": "execute_result"
    }
   ],
   "source": [
    "norm(A - U*diagm(σ)*V')"
   ]
  },
  {
   "cell_type": "markdown",
   "id": "8e40ecee",
   "metadata": {},
   "source": [
    "**Step 3:** Just for fun, show that $A$ can be expressed as a sum of outer product matrices\n",
    "    $A = U \\Sigma V^* = \\sigma_1 u_1 v_1^* + \\sigma_2 u_2 v_2^* + \\ldots$."
   ]
  },
  {
   "cell_type": "code",
   "execution_count": 17,
   "id": "76ea3f61",
   "metadata": {},
   "outputs": [
    {
     "data": {
      "text/plain": [
       "4×4 Matrix{Float64}:\n",
       "  2.91193  -0.682836  -4.43362  -1.3536\n",
       " -1.71631   1.00203    2.36515   1.65535\n",
       "  2.377    -2.24492   -1.36714  -1.83219\n",
       " -1.0863   -0.902655   3.46899   0.889516"
      ]
     },
     "execution_count": 17,
     "metadata": {},
     "output_type": "execute_result"
    }
   ],
   "source": [
    "A"
   ]
  },
  {
   "cell_type": "code",
   "execution_count": 18,
   "id": "6a708031",
   "metadata": {},
   "outputs": [
    {
     "data": {
      "text/plain": [
       "4×4 Matrix{Float64}:\n",
       "  2.91193  -0.682836  -4.43362  -1.3536\n",
       " -1.71631   1.00203    2.36515   1.65535\n",
       "  2.377    -2.24492   -1.36714  -1.83219\n",
       " -1.0863   -0.902655   3.46899   0.889516"
      ]
     },
     "execution_count": 18,
     "metadata": {},
     "output_type": "execute_result"
    }
   ],
   "source": [
    "σ[1]*(U[:,1]*V[:,1]') + σ[2]*(U[:,2]*V[:,2]') + σ[3]*(U[:,3]*V[:,3]') + σ[4]*(U[:,4]*V[:,4]') "
   ]
  },
  {
   "cell_type": "markdown",
   "id": "20baed8c",
   "metadata": {},
   "source": [
    "## Case 2: repeated singular values $\\Rightarrow$ indeterminate SVD\n",
    "\n",
    "**Step 1:** Construct a real-valued matrix $A$ with known SVD $A = \\bar{U} \\bar{\\Sigma} \\bar{V}^*$ and \n",
    "a pair of repeated singular values $\\bar{\\sigma}_1 \\geq \\bar{\\sigma_2} = \\bar{\\sigma_3} \\geq \\ldots$.\n",
    "\n",
    "Show that $A = U \\Sigma V^*$, and $\\Sigma = \\bar{\\Sigma}$, but that cols 2 and 3 of $U,V$ are different than those\n",
    "of $\\bar{U}, \\bar{V}$."
   ]
  },
  {
   "cell_type": "code",
   "execution_count": 19,
   "id": "f81c6079",
   "metadata": {},
   "outputs": [
    {
     "data": {
      "text/plain": [
       "4-element Vector{Float64}:\n",
       " 8.0\n",
       " 3.0\n",
       " 3.0\n",
       " 0.5"
      ]
     },
     "execution_count": 19,
     "metadata": {},
     "output_type": "execute_result"
    }
   ],
   "source": [
    "σ̄ = [8.0, 3.0, 3.0, 0.5]"
   ]
  },
  {
   "cell_type": "code",
   "execution_count": 20,
   "id": "d03f5bb6",
   "metadata": {},
   "outputs": [
    {
     "data": {
      "text/plain": [
       "4×4 Matrix{Float64}:\n",
       "  3.63073   -0.972716  -4.5046    0.0360908\n",
       " -0.89218    0.958053   2.44049   2.7542\n",
       "  2.42098   -2.08873   -1.27697  -2.04538\n",
       " -0.714566  -1.17707    3.36463   1.82168"
      ]
     },
     "execution_count": 20,
     "metadata": {},
     "output_type": "execute_result"
    }
   ],
   "source": [
    "A = Ū * diagm(σ̄ )* V̄'"
   ]
  },
  {
   "cell_type": "markdown",
   "id": "8c61241e-ebee-4eb1-a7cf-3f99e8e36c29",
   "metadata": {},
   "source": [
    "**Step 2:** Calculate and verify a numeric SVD of $A$, giving a numerical factorization $A = U \\Sigma V^*$."
   ]
  },
  {
   "cell_type": "code",
   "execution_count": 21,
   "id": "77c9310b-b8c4-4f3a-af47-e986596423fb",
   "metadata": {},
   "outputs": [
    {
     "data": {
      "text/plain": [
       "4×4 Matrix{Float64}:\n",
       "  3.63073   -0.972716  -4.5046    0.0360908\n",
       " -0.89218    0.958053   2.44049   2.7542\n",
       "  2.42098   -2.08873   -1.27697  -2.04538\n",
       " -0.714566  -1.17707    3.36463   1.82168"
      ]
     },
     "execution_count": 21,
     "metadata": {},
     "output_type": "execute_result"
    }
   ],
   "source": [
    "U,σ,V = svd(A);\n",
    "\n",
    "U*diagm(σ) * V'"
   ]
  },
  {
   "cell_type": "code",
   "execution_count": 22,
   "id": "fd9771b5-63bd-46bc-9875-b6c05ec6c018",
   "metadata": {},
   "outputs": [
    {
     "data": {
      "text/plain": [
       "7.225121403192104e-15"
      ]
     },
     "execution_count": 22,
     "metadata": {},
     "output_type": "execute_result"
    }
   ],
   "source": [
    "norm(A-U*diagm(σ) * V')"
   ]
  },
  {
   "cell_type": "markdown",
   "id": "5f9f5643-2bcd-4c26-b5d9-8fcad0eb11d9",
   "metadata": {},
   "source": [
    "**Step 3:** Show that the original and numerical SVD differ in cols 2 and 3 of $U$ and same for $V$.\n",
    "\n",
    "This indeterminacy in the SVD factorization is due to the repeated singular values $\\sigma_2 = \\sigma_3$."
   ]
  },
  {
   "cell_type": "code",
   "execution_count": 23,
   "id": "b4de7a01",
   "metadata": {},
   "outputs": [
    {
     "data": {
      "text/plain": [
       "4×4 Matrix{Float64}:\n",
       " -0.684214  -0.172019  -0.681816    0.193357\n",
       "  0.43049   -0.173221  -0.578533   -0.6708\n",
       " -0.414793   0.737763   0.0808302  -0.526421\n",
       "  0.417703   0.629373  -0.440332    0.485306"
      ]
     },
     "execution_count": 23,
     "metadata": {},
     "output_type": "execute_result"
    }
   ],
   "source": [
    "Ū[:,:]"
   ]
  },
  {
   "cell_type": "code",
   "execution_count": 24,
   "id": "ada60323",
   "metadata": {},
   "outputs": [
    {
     "data": {
      "text/plain": [
       "4×4 Matrix{Float64}:\n",
       " -0.684214  -0.496917  -0.497532   0.193357\n",
       "  0.43049   -0.407654  -0.445561  -0.6708\n",
       " -0.414793  -0.309226   0.67469   -0.526421\n",
       "  0.417703  -0.700908   0.314214   0.485306"
      ]
     },
     "execution_count": 24,
     "metadata": {},
     "output_type": "execute_result"
    }
   ],
   "source": [
    "U"
   ]
  },
  {
   "cell_type": "markdown",
   "id": "17d1f7b6",
   "metadata": {},
   "source": [
    "**Step 4:** Show that $u_2, u_3 \\in \\text{span} \\{\\bar{u}_2, \\bar{u}_3\\}$ and same for $v$'s.\n",
    "To make the equations easier to read we'll rewrite $\\bar{u}_2, \\bar{u}_3$ as $w_2, w_3$. \n",
    "\n",
    "If $u_3$ is in the span of $w_2, w_3$, then \n",
    "\\begin{align*}\n",
    "u_3 &= c_2 w_2 + c_3 w_3\n",
    "\\end{align*}\n",
    "for some constants $c_1, c_2$. The values of the constants can be determined by projecting this equation \n",
    "onto $w_2$ and $w_3$ respectively. For example, project the equation onto $w_2$ by multiplying by $w_2^*$\n",
    "from the left (taking the inner product of both sides with $w_2$).\n",
    "\\begin{align*}\n",
    "w_2^* u_3 &= w_2^* (c_2 w_2 + c_3 w_3) \\\\\n",
    "   &= c_2 w_2^* w_2 + c_3 w_3^* w_3\n",
    "\\end{align*}\n",
    "Since $w_2, w_3$ are orthonormal, $w_2^* w_2 = 1$ and $w_2^* w_3 = 0$, so\n",
    "\\begin{align*}\n",
    "w_2^* u_3 &= c_2\n",
    "\\end{align*}\n",
    "Similarly $c_3 = w_3^* u_3$ and thus\n",
    "\\begin{align*}\n",
    "u_2 &= (w_2^* u_2) w_2 + (w_3^* u_2) w_3\n",
    "\\end{align*}\n",
    "Below we verify this relation by computing the RHS and comparing to the LHS."
   ]
  },
  {
   "cell_type": "code",
   "execution_count": 25,
   "id": "9c3b4b71-8602-425b-ad1f-0d7dd23ddc39",
   "metadata": {},
   "outputs": [
    {
     "data": {
      "text/plain": [
       "4-element Vector{Float64}:\n",
       " -0.4969167990862868\n",
       " -0.4076537119138086\n",
       " -0.3092255164079424\n",
       " -0.7009077870526008"
      ]
     },
     "execution_count": 25,
     "metadata": {},
     "output_type": "execute_result"
    }
   ],
   "source": [
    "# extract the needed columns of U, Ū\n",
    "\n",
    "w₂ = Ū[:,2]\n",
    "w₃ = Ū[:,3]\n",
    "\n",
    "u₂ = U[:,2]\n",
    "u₃ = U[:,3];\n",
    "\n",
    "u₂"
   ]
  },
  {
   "cell_type": "code",
   "execution_count": 26,
   "id": "9c1a06c7-bc11-4f5f-9c05-cb5da6337ccc",
   "metadata": {},
   "outputs": [
    {
     "data": {
      "text/plain": [
       "4-element Vector{Float64}:\n",
       " -0.4969167990862873\n",
       " -0.40765371191380884\n",
       " -0.3092255164079424\n",
       " -0.700907787052601"
      ]
     },
     "execution_count": 26,
     "metadata": {},
     "output_type": "execute_result"
    }
   ],
   "source": [
    "# compute RHS of above eqn\n",
    "\n",
    "(w₂' * u₂)*w₂ + (w₃' * u₂)*w₃"
   ]
  },
  {
   "cell_type": "code",
   "execution_count": 27,
   "id": "715a2054",
   "metadata": {},
   "outputs": [
    {
     "data": {
      "text/plain": [
       "2.4228566755985166e-15"
      ]
     },
     "execution_count": 27,
     "metadata": {},
     "output_type": "execute_result"
    }
   ],
   "source": [
    "# do the same for u₃ in one step, showing norm(LHS-RHS) = 0, approximately\n",
    "\n",
    "norm(u₃ - ((w₂' * u₃)*w₂ + (w₃' * u₃)*w₃))"
   ]
  },
  {
   "cell_type": "markdown",
   "id": "0cfa9d93",
   "metadata": {},
   "source": [
    "### Complex SVD with distinct singular values\n",
    "\n",
    "For complex matrices, the uniqueness of the SVD is somewhat disguised by the \n",
    "arbitrary complex constants of unit magnitude in the columns of $U$ and $V$. \n",
    "\n",
    "In this example, we construct a complex matrix $A$ with known SVD $A = \\bar{U} \\bar{\\Sigma} \\bar{V}^*$,\n",
    "compute its numerical SVD as $A = U \\Sigma V^*$, and then show that, though $\\bar{U} \\neq U$ and $\\bar{V} \\neq V$,\n",
    "their columns are related by $u_j = \\alpha_j \\bar u_j$ and $v_j = (1/\\bar{\\alpha}_j) \\bar v_j$ for some complex constants\n",
    "$\\alpha_j$ of unit magnitude. "
   ]
  },
  {
   "cell_type": "code",
   "execution_count": 28,
   "id": "19d2416c",
   "metadata": {},
   "outputs": [
    {
     "data": {
      "text/plain": [
       "4×4 Matrix{ComplexF64}:\n",
       "   1.55916-4.06596im   -0.660215+0.403919im  …  -0.601516-4.36149im\n",
       "  0.630347+0.935821im    1.06938-1.6224im        0.805222+1.20455im\n",
       "  -1.20014+2.18242im    -4.45989+1.93847im       -4.29656-0.343373im\n",
       " -0.479995-1.60901im    0.238011-2.11757im       0.433373-2.46287im"
      ]
     },
     "execution_count": 28,
     "metadata": {},
     "output_type": "execute_result"
    }
   ],
   "source": [
    "Ū, tmp = qr(randn(4,4) + im*randn(4,4))\n",
    "V̄, tmp = qr(randn(4,4) + im*randn(4,4))\n",
    "\n",
    "σ̄  = [10; 6.7; 3.1; 0.2]\n",
    "\n",
    "A = Ū*diagm(σ̄ )*V̄'"
   ]
  },
  {
   "cell_type": "code",
   "execution_count": 29,
   "id": "5533f3a2-e4b2-41cf-957d-b05c7f89c881",
   "metadata": {},
   "outputs": [],
   "source": [
    "U, σ, V = svd(A);"
   ]
  },
  {
   "cell_type": "code",
   "execution_count": 30,
   "id": "e442da0c-5115-4fb0-8941-57773e35843f",
   "metadata": {},
   "outputs": [
    {
     "data": {
      "text/plain": [
       "4×4 Matrix{ComplexF64}:\n",
       " -0.065216+0.783037im    0.538563-0.0854331im  …  -0.101639+0.22446im\n",
       "  -0.19598+0.0233773im  0.0649043-0.0855843im     0.0144441+0.220868im\n",
       "  0.437116-0.0494095im   0.381898+0.715409im       0.340008-0.104824im\n",
       " -0.046321+0.384692im   -0.172995-0.0594193im     0.0847274-0.869784im"
      ]
     },
     "execution_count": 30,
     "metadata": {},
     "output_type": "execute_result"
    }
   ],
   "source": [
    "U"
   ]
  },
  {
   "cell_type": "code",
   "execution_count": 31,
   "id": "78f21743-50b4-4a1c-945e-52a72a441f50",
   "metadata": {},
   "outputs": [
    {
     "data": {
      "text/plain": [
       "4×4 Matrix{ComplexF64}:\n",
       "  -0.772183+0.145375im   -0.423912-0.342998im    …    0.24618+0.010399im\n",
       " -0.0746546-0.182705im    -0.10703+0.00905069im       0.19947-0.0959325im\n",
       "   0.163877+0.408235im    0.275992-0.762551im       -0.224286-0.276205im\n",
       "  -0.383157+0.0576526im  0.0716258+0.168308im       -0.838435+0.246434im"
      ]
     },
     "execution_count": 31,
     "metadata": {},
     "output_type": "execute_result"
    }
   ],
   "source": [
    "Ū[:,:]  "
   ]
  },
  {
   "cell_type": "markdown",
   "id": "669f770f-78e3-4fd6-b506-97c43ba80bac",
   "metadata": {},
   "source": [
    "Note $U \\neq \\bar{U}$! But $u_2 = \\alpha_2 \\bar{u}_2$ for some unit-magnitude $\\alpha_2$."
   ]
  },
  {
   "cell_type": "code",
   "execution_count": 32,
   "id": "9af40cc6-d40e-4861-8b05-af8385cae92c",
   "metadata": {},
   "outputs": [
    {
     "data": {
      "text/plain": [
       "4-element Vector{ComplexF64}:\n",
       " -0.6692477608777805 + 0.7430393223511643im\n",
       " -0.6692477608777804 + 0.7430393223511672im\n",
       " -0.6692477608777805 + 0.7430393223511637im\n",
       " -0.6692477608777819 + 0.7430393223511624im"
      ]
     },
     "execution_count": 32,
     "metadata": {},
     "output_type": "execute_result"
    }
   ],
   "source": [
    "U[:,2] ./ Ū[:,2]"
   ]
  },
  {
   "cell_type": "code",
   "execution_count": 33,
   "id": "aca76804-8bef-45f5-bb49-1b37f94410b4",
   "metadata": {},
   "outputs": [
    {
     "data": {
      "text/plain": [
       "-0.6692477608777805 + 0.7430393223511643im"
      ]
     },
     "execution_count": 33,
     "metadata": {},
     "output_type": "execute_result"
    }
   ],
   "source": [
    "α₂ = U[1,2] ./ Ū[1,2]"
   ]
  },
  {
   "cell_type": "code",
   "execution_count": 34,
   "id": "98119be8-18ad-49fa-bf0d-184b6937156c",
   "metadata": {},
   "outputs": [
    {
     "data": {
      "text/plain": [
       "1.0000000000000002"
      ]
     },
     "execution_count": 34,
     "metadata": {},
     "output_type": "execute_result"
    }
   ],
   "source": [
    "abs(α₂)"
   ]
  },
  {
   "cell_type": "code",
   "execution_count": 35,
   "id": "6d35a1cb-78b3-4ee2-b4a7-8a6106c3b202",
   "metadata": {},
   "outputs": [
    {
     "data": {
      "text/plain": [
       "4-element Vector{ComplexF64}:\n",
       "  0.5385630064656894 - 0.08543311771165908im\n",
       " 0.06490425697229033 - 0.08558430611641196im\n",
       " 0.38189820182593404 + 0.7154086869736607im\n",
       " -0.1729952524747251 - 0.059419282258352246im"
      ]
     },
     "execution_count": 35,
     "metadata": {},
     "output_type": "execute_result"
    }
   ],
   "source": [
    "U[:,2]"
   ]
  },
  {
   "cell_type": "code",
   "execution_count": 36,
   "id": "a5acc209-1ed0-4ea2-81b5-8f9e00124d93",
   "metadata": {},
   "outputs": [
    {
     "data": {
      "text/plain": [
       "4-element Vector{ComplexF64}:\n",
       "  0.5385630064656894 - 0.08543311771165904im\n",
       " 0.06490425697229035 - 0.08558430611641166im\n",
       " 0.38189820182593454 + 0.7154086869736609im\n",
       " -0.1729952524747253 - 0.05941928225835187im"
      ]
     },
     "execution_count": 36,
     "metadata": {},
     "output_type": "execute_result"
    }
   ],
   "source": [
    "α₂ * Ū[:,2]"
   ]
  },
  {
   "cell_type": "markdown",
   "id": "ad82f8af-b8bb-423d-8151-ca255d5c6e3d",
   "metadata": {},
   "source": [
    "And  $V \\neq \\bar{V}$, but $v_2 = (1/\\bar{\\alpha}_2) \\bar{v}_2$. (The bar on $\\alpha_2$ means complex conjugate.)"
   ]
  },
  {
   "cell_type": "code",
   "execution_count": 37,
   "id": "8bfcc07f-3448-4f46-8171-ffbd328f8758",
   "metadata": {},
   "outputs": [
    {
     "data": {
      "text/plain": [
       "4-element Vector{ComplexF64}:\n",
       "    0.362615218845093 - 0.0im\n",
       " -0.06173013490808314 - 0.6654872994880924im\n",
       "   0.5361046544507924 - 0.17841922430657406im\n",
       " -0.27123852205834154 - 0.17033582051889376im"
      ]
     },
     "execution_count": 37,
     "metadata": {},
     "output_type": "execute_result"
    }
   ],
   "source": [
    "V[:,2]"
   ]
  },
  {
   "cell_type": "code",
   "execution_count": 38,
   "id": "f86d7f34-5872-456e-9575-570911abf1a4",
   "metadata": {},
   "outputs": [
    {
     "data": {
      "text/plain": [
       "4-element Vector{ComplexF64}:\n",
       "  0.36261521884509273 - 3.0531133177191805e-16im\n",
       "  -0.0617301349080836 - 0.6654872994880924im\n",
       "   0.5361046544507921 - 0.17841922430657373im\n",
       " -0.27123852205834187 - 0.170335820518894im"
      ]
     },
     "execution_count": 38,
     "metadata": {},
     "output_type": "execute_result"
    }
   ],
   "source": [
    "conj(1/α₂) * V̄[:,2]"
   ]
  },
  {
   "cell_type": "code",
   "execution_count": null,
   "id": "4a930af1-f46b-42c3-ad6b-4435d0e7e979",
   "metadata": {},
   "outputs": [],
   "source": []
  }
 ],
 "metadata": {
  "kernelspec": {
   "display_name": "Julia 1.11.7",
   "language": "julia",
   "name": "julia-1.11"
  },
  "language_info": {
   "file_extension": ".jl",
   "mimetype": "application/julia",
   "name": "julia",
   "version": "1.11.7"
  }
 },
 "nbformat": 4,
 "nbformat_minor": 5
}
