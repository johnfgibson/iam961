{
 "cells": [
  {
   "cell_type": "markdown",
   "id": "f70d30dc",
   "metadata": {},
   "source": [
    "# SVD demo: uniqueness and indeterminacy\n",
    "\n",
    "2025-09-18 IAM 961 University of New Hampshire, J. Gibson\n",
    "\n",
    "The singular value decomposition of a matrix, $A = U \\Sigma V^*$, is unique (up to constant factors of unit magnitude in the columns of $U$ and $V$) if the singular values $\\sigma_j$ are distinct. If two singular values are equal, then there is indeterminacy in the corresponding columns of $U$ and $V$. This notebook demonstrates this behavior with several examples. \n",
    "\n",
    "## Case 1: distinct singular values $\\Rightarrow$ unique SVD\n",
    "\n",
    "**Step 1.** Construct a real-valued matrix $A$ with known SVD $A = \\bar{U} \\bar{\\Sigma} \\bar{V}^*$ and \n",
    "distinct singular values $\\bar{\\sigma}_1 > \\bar{\\sigma_2} > \\bar{\\sigma_3} > \\ldots$. Do so by obtaining\n",
    "random unitary $U,V$ from QR decomposition of random matrix with normal distribution\n",
    "and assigning distinct singular values."
   ]
  },
  {
   "cell_type": "code",
   "execution_count": 1,
   "id": "351b0e1a",
   "metadata": {},
   "outputs": [
    {
     "data": {
      "text/plain": [
       "4-element Vector{Float64}:\n",
       " 8.0\n",
       " 3.0\n",
       " 0.6666666666666666\n",
       " 0.1"
      ]
     },
     "execution_count": 1,
     "metadata": {},
     "output_type": "execute_result"
    }
   ],
   "source": [
    "using LinearAlgebra\n",
    "\n",
    "m=4\n",
    "Ū,tmp = qr(randn(m,m))   # Q,R = qr(A); here we store unitary Q as Û and discard up-tri R\n",
    "V̄,tmp = qr(randn(m,m));\n",
    "\n",
    "σ̄̄  = [8.0, 3.0, 2/3, 0.1]"
   ]
  },
  {
   "cell_type": "code",
   "execution_count": 2,
   "id": "ca3b855b-afe6-4061-9ee3-d88ad9da4dd5",
   "metadata": {},
   "outputs": [
    {
     "data": {
      "text/plain": [
       "4×4 Matrix{Float64}:\n",
       "  1.0           2.22045e-16   1.11022e-16   0.0\n",
       "  3.33067e-16   1.0           6.66134e-16  -1.66533e-16\n",
       "  2.77556e-17   4.44089e-16   1.0          -8.32667e-17\n",
       " -1.11022e-16  -2.22045e-16  -1.80411e-16   1.0"
      ]
     },
     "execution_count": 2,
     "metadata": {},
     "output_type": "execute_result"
    }
   ],
   "source": [
    "Ū' * Ū  # verify that Ū is unitary"
   ]
  },
  {
   "cell_type": "code",
   "execution_count": 3,
   "id": "56255537-1af1-453f-9eac-041f482d9db7",
   "metadata": {},
   "outputs": [
    {
     "data": {
      "text/plain": [
       "4×4 Matrix{Float64}:\n",
       " 1.0          0.0           3.46945e-17   1.11022e-16\n",
       " 1.20563e-16  1.0          -1.11022e-16  -1.11022e-16\n",
       " 0.0          1.38778e-17   1.0           1.11022e-16\n",
       " 2.22045e-16  0.0           1.11022e-16   1.0"
      ]
     },
     "execution_count": 3,
     "metadata": {},
     "output_type": "execute_result"
    }
   ],
   "source": [
    "V̄' * V̄  # verify that V̄ is unitary"
   ]
  },
  {
   "cell_type": "code",
   "execution_count": 4,
   "id": "b520f859",
   "metadata": {},
   "outputs": [
    {
     "ename": "LoadError",
     "evalue": "UndefVarError: `σ̄` not defined in `Main`\nSuggestion: check for spelling errors or missing imports.",
     "output_type": "error",
     "traceback": [
      "UndefVarError: `σ̄` not defined in `Main`\nSuggestion: check for spelling errors or missing imports.",
      "",
      "Stacktrace:",
      " [1] top-level scope",
      "\u001b[90m   @\u001b[39m \u001b[90m\u001b[4mIn[4]:1\u001b[24m\u001b[39m"
     ]
    }
   ],
   "source": [
    "A = Ū*diagm(σ̄ )*V̄'  # build A from Ū, Σ̄, V̄"
   ]
  },
  {
   "cell_type": "markdown",
   "id": "984694f9",
   "metadata": {},
   "source": [
    "**Step 2.** Calculate a numerical SVD of $A$. Show that the numerical SVD is the same as the SVD by construction.\n",
    "\n",
    "Let the numerical SVD be $A = U \\Sigma V^*$ (without overbars). Then observe $U = \\bar{U}, \\sigma_i = \\bar{\\sigma_i}, V = \\bar{V}$ up to signs  in columns of $U,V$.\n",
    "\n"
   ]
  },
  {
   "cell_type": "code",
   "execution_count": 5,
   "id": "eadb2b19",
   "metadata": {},
   "outputs": [
    {
     "ename": "LoadError",
     "evalue": "UndefVarError: `A` not defined in `Main`\nSuggestion: check for spelling errors or missing imports.",
     "output_type": "error",
     "traceback": [
      "UndefVarError: `A` not defined in `Main`\nSuggestion: check for spelling errors or missing imports.",
      "",
      "Stacktrace:",
      " [1] top-level scope",
      "\u001b[90m   @\u001b[39m \u001b[90m\u001b[4mIn[5]:1\u001b[24m\u001b[39m"
     ]
    }
   ],
   "source": [
    "U,σ,V = svd(A);\n",
    "\n",
    "σ   # same as σ̄"
   ]
  },
  {
   "cell_type": "code",
   "execution_count": 6,
   "id": "d0d9f6eb-73ac-42eb-96cd-dfb62627f883",
   "metadata": {},
   "outputs": [
    {
     "ename": "LoadError",
     "evalue": "UndefVarError: `σ̄` not defined in `Main`\nSuggestion: check for spelling errors or missing imports.",
     "output_type": "error",
     "traceback": [
      "UndefVarError: `σ̄` not defined in `Main`\nSuggestion: check for spelling errors or missing imports.",
      ""
     ]
    }
   ],
   "source": [
    "σ̄"
   ]
  },
  {
   "cell_type": "code",
   "execution_count": 7,
   "id": "64a79fec",
   "metadata": {},
   "outputs": [
    {
     "ename": "LoadError",
     "evalue": "UndefVarError: `U` not defined in `Main`\nSuggestion: check for spelling errors or missing imports.",
     "output_type": "error",
     "traceback": [
      "UndefVarError: `U` not defined in `Main`\nSuggestion: check for spelling errors or missing imports.",
      ""
     ]
    }
   ],
   "source": [
    "U   # same as Ū, up to signs of columns"
   ]
  },
  {
   "cell_type": "code",
   "execution_count": 8,
   "id": "fd4bfecc",
   "metadata": {},
   "outputs": [
    {
     "data": {
      "text/plain": [
       "4×4 Matrix{Float64}:\n",
       " -0.00696143  -0.576959   -0.809103    0.11145\n",
       "  0.928075     0.0155233   0.0320066   0.370692\n",
       "  0.101372     0.77086    -0.583032   -0.235738\n",
       " -0.358264     0.269541   -0.0663369   0.8914"
      ]
     },
     "execution_count": 8,
     "metadata": {},
     "output_type": "execute_result"
    }
   ],
   "source": [
    "Ū[:,:] "
   ]
  },
  {
   "cell_type": "code",
   "execution_count": 9,
   "id": "44801f20",
   "metadata": {},
   "outputs": [
    {
     "ename": "LoadError",
     "evalue": "UndefVarError: `V` not defined in `Main`\nSuggestion: check for spelling errors or missing imports.",
     "output_type": "error",
     "traceback": [
      "UndefVarError: `V` not defined in `Main`\nSuggestion: check for spelling errors or missing imports.",
      ""
     ]
    }
   ],
   "source": [
    "V   # same as V̄, up to signs of columns"
   ]
  },
  {
   "cell_type": "code",
   "execution_count": 10,
   "id": "bc85b2ff",
   "metadata": {},
   "outputs": [
    {
     "data": {
      "text/plain": [
       "4×4 Matrix{Float64}:\n",
       " -0.751281     0.568274   0.0325683   0.334036\n",
       " -0.00499563  -0.170025   0.968168    0.183621\n",
       "  0.308468    -0.123437  -0.195101    0.922793\n",
       "  0.583437     0.795562   0.153379   -0.0561832"
      ]
     },
     "execution_count": 10,
     "metadata": {},
     "output_type": "execute_result"
    }
   ],
   "source": [
    "V̄[:,:] "
   ]
  },
  {
   "cell_type": "markdown",
   "id": "f16b814d",
   "metadata": {},
   "source": [
    "Change signs in corresponding columns of $U,V$, show it still forms SVD of $A$."
   ]
  },
  {
   "cell_type": "code",
   "execution_count": 11,
   "id": "718a73d3",
   "metadata": {},
   "outputs": [
    {
     "ename": "LoadError",
     "evalue": "UndefVarError: `U` not defined in `Main`\nSuggestion: check for spelling errors or missing imports.",
     "output_type": "error",
     "traceback": [
      "UndefVarError: `U` not defined in `Main`\nSuggestion: check for spelling errors or missing imports.",
      "",
      "Stacktrace:",
      " [1] top-level scope",
      "\u001b[90m   @\u001b[39m \u001b[90m\u001b[4mIn[11]:1\u001b[24m\u001b[39m"
     ]
    }
   ],
   "source": [
    "U[:,3] = -U[:,3]\n",
    "V[:,3] = -V[:,3];\n",
    "\n",
    "U*diagm(σ)*V'"
   ]
  },
  {
   "cell_type": "markdown",
   "id": "8e40ecee",
   "metadata": {},
   "source": [
    "**Step 3:** Just for fun, show that $A$ can be expressed as a sum of outer product matrices\n",
    "    $A = U \\Sigma V^* = \\sigma_1 u_1 v_1^* + \\sigma_2 u_2 v_2^* + \\ldots$."
   ]
  },
  {
   "cell_type": "code",
   "execution_count": 12,
   "id": "76ea3f61",
   "metadata": {},
   "outputs": [
    {
     "ename": "LoadError",
     "evalue": "UndefVarError: `A` not defined in `Main`\nSuggestion: check for spelling errors or missing imports.",
     "output_type": "error",
     "traceback": [
      "UndefVarError: `A` not defined in `Main`\nSuggestion: check for spelling errors or missing imports.",
      ""
     ]
    }
   ],
   "source": [
    "A"
   ]
  },
  {
   "cell_type": "code",
   "execution_count": 13,
   "id": "f90bd53e",
   "metadata": {},
   "outputs": [
    {
     "ename": "LoadError",
     "evalue": "UndefVarError: `U` not defined in `Main`\nSuggestion: check for spelling errors or missing imports.",
     "output_type": "error",
     "traceback": [
      "UndefVarError: `U` not defined in `Main`\nSuggestion: check for spelling errors or missing imports.",
      "",
      "Stacktrace:",
      " [1] top-level scope",
      "\u001b[90m   @\u001b[39m \u001b[90m\u001b[4mIn[13]:1\u001b[24m\u001b[39m"
     ]
    }
   ],
   "source": [
    "U*diagm(σ)*V'"
   ]
  },
  {
   "cell_type": "code",
   "execution_count": 14,
   "id": "6a708031",
   "metadata": {},
   "outputs": [
    {
     "ename": "LoadError",
     "evalue": "UndefVarError: `σ` not defined in `Main`\nSuggestion: check for spelling errors or missing imports.",
     "output_type": "error",
     "traceback": [
      "UndefVarError: `σ` not defined in `Main`\nSuggestion: check for spelling errors or missing imports.",
      "",
      "Stacktrace:",
      " [1] top-level scope",
      "\u001b[90m   @\u001b[39m \u001b[90m\u001b[4mIn[14]:1\u001b[24m\u001b[39m"
     ]
    }
   ],
   "source": [
    "σ[1]*(U[:,1]*V[:,1]') + σ[2]*(U[:,2]*V[:,2]') + σ[3]*(U[:,3]*V[:,3]') + σ[4]*(U[:,4]*V[:,4]') "
   ]
  },
  {
   "cell_type": "markdown",
   "id": "20baed8c",
   "metadata": {},
   "source": [
    "## Case 2: repeated singular values $\\Rightarrow$ indeterminate SVD\n",
    "\n",
    "**Step 1:** Construct a real-valued matrix $A$ with known SVD $A = \\bar{U} \\bar{\\Sigma} \\bar{V}^*$ and \n",
    "a pair of repeated singular values $\\bar{\\sigma}_1 \\geq \\bar{\\sigma_2} = \\bar{\\sigma_3} \\geq \\ldots$.\n",
    "\n",
    "Show that $A = U \\Sigma V^*$, and $\\Sigma = \\bar{\\Sigma}$, but that cols 2 and 3 of $U,V$ are different than those\n",
    "of $\\bar{U}, \\bar{V}$."
   ]
  },
  {
   "cell_type": "code",
   "execution_count": 15,
   "id": "f81c6079",
   "metadata": {},
   "outputs": [
    {
     "data": {
      "text/plain": [
       "4-element Vector{Float64}:\n",
       " 8.0\n",
       " 3.0\n",
       " 3.0\n",
       " 0.5"
      ]
     },
     "execution_count": 15,
     "metadata": {},
     "output_type": "execute_result"
    }
   ],
   "source": [
    "σ̄ = [8.0, 3.0, 3.0, 0.5]"
   ]
  },
  {
   "cell_type": "code",
   "execution_count": 16,
   "id": "d03f5bb6",
   "metadata": {},
   "outputs": [
    {
     "data": {
      "text/plain": [
       "4×4 Matrix{Float64}:\n",
       " -1.00221  -2.04524     0.721469  -1.78494\n",
       " -5.48646   0.0819882   2.4368     4.37315\n",
       "  0.60857  -2.11231     0.197185   2.0513\n",
       "  2.75517  -0.234004   -0.533801  -1.08445"
      ]
     },
     "execution_count": 16,
     "metadata": {},
     "output_type": "execute_result"
    }
   ],
   "source": [
    "A = Ū * diagm(σ̄ )* V̄'"
   ]
  },
  {
   "cell_type": "markdown",
   "id": "8c61241e-ebee-4eb1-a7cf-3f99e8e36c29",
   "metadata": {},
   "source": [
    "**Step 2:** Calculate and verify a numeric SVD of $A$, giving a numerical factorization $A = U \\Sigma V^*$."
   ]
  },
  {
   "cell_type": "code",
   "execution_count": 17,
   "id": "77c9310b-b8c4-4f3a-af47-e986596423fb",
   "metadata": {},
   "outputs": [
    {
     "data": {
      "text/plain": [
       "4×4 Matrix{Float64}:\n",
       " -1.00221  -2.04524     0.721469  -1.78494\n",
       " -5.48646   0.0819882   2.4368     4.37315\n",
       "  0.60857  -2.11231     0.197185   2.0513\n",
       "  2.75517  -0.234004   -0.533801  -1.08445"
      ]
     },
     "execution_count": 17,
     "metadata": {},
     "output_type": "execute_result"
    }
   ],
   "source": [
    "U,σ,V = svd(A);\n",
    "\n",
    "U*diagm(σ) * V'"
   ]
  },
  {
   "cell_type": "code",
   "execution_count": 18,
   "id": "fd9771b5-63bd-46bc-9875-b6c05ec6c018",
   "metadata": {},
   "outputs": [
    {
     "data": {
      "text/plain": [
       "3.025783276449512e-14"
      ]
     },
     "execution_count": 18,
     "metadata": {},
     "output_type": "execute_result"
    }
   ],
   "source": [
    "norm(A-U*diagm(σ) * V')"
   ]
  },
  {
   "cell_type": "markdown",
   "id": "5f9f5643-2bcd-4c26-b5d9-8fcad0eb11d9",
   "metadata": {},
   "source": [
    "**Step 3:** Show that the original and numerical SVD differ in cols 2 and 3 of $U$ and same for $V$.\n",
    "\n",
    "This indeterminacy in the SVD factorization is due to the repeated singular values $\\sigma_2 = \\sigma_3$."
   ]
  },
  {
   "cell_type": "code",
   "execution_count": 19,
   "id": "b4de7a01",
   "metadata": {},
   "outputs": [
    {
     "data": {
      "text/plain": [
       "4×4 Matrix{Float64}:\n",
       " -0.00696143  -0.576959   -0.809103    0.11145\n",
       "  0.928075     0.0155233   0.0320066   0.370692\n",
       "  0.101372     0.77086    -0.583032   -0.235738\n",
       " -0.358264     0.269541   -0.0663369   0.8914"
      ]
     },
     "execution_count": 19,
     "metadata": {},
     "output_type": "execute_result"
    }
   ],
   "source": [
    "Ū[:,:]"
   ]
  },
  {
   "cell_type": "code",
   "execution_count": 20,
   "id": "ada60323",
   "metadata": {},
   "outputs": [
    {
     "data": {
      "text/plain": [
       "4×4 Matrix{Float64}:\n",
       "  0.00696143   0.774766    0.622309    0.11145\n",
       " -0.928075    -0.031066   -0.0173292   0.370692\n",
       " -0.101372     0.626183   -0.736237   -0.235738\n",
       "  0.358264     0.0816506  -0.265304    0.8914"
      ]
     },
     "execution_count": 20,
     "metadata": {},
     "output_type": "execute_result"
    }
   ],
   "source": [
    "U"
   ]
  },
  {
   "cell_type": "markdown",
   "id": "17d1f7b6",
   "metadata": {},
   "source": [
    "**Step 4:** Show that $u_2, u_3 \\in \\text{span} \\{\\bar{u}_2, \\bar{u}_3\\}$ and same for $v$'s.\n",
    "To make the equations easier to read we'll rewrite $\\bar{u}_2, \\bar{u}_3$ as $w_2, w_3$. \n",
    "\n",
    "If $u_3$ is in the span of $w_2, w_3$, then \n",
    "\\begin{align*}\n",
    "u_3 &= c_2 w_2 + c_3 w_3\n",
    "\\end{align*}\n",
    "for some constants $c_1, c_2$. The values of the constants can be determined by projecting this equation \n",
    "onto $w_2$ and $w_3$ respectively. For example, project the equation onto $w_2$ by multiplying by $w_2^*$\n",
    "from the left (taking the inner product of both sides with $w_2$).\n",
    "\\begin{align*}\n",
    "w_2^* u_3 &= w_2^* (c_2 w_2 + c_3 w_3) \\\\\n",
    "   &= c_2 w_2^* w_2 + c_3 w_3^* w_3\n",
    "\\end{align*}\n",
    "Since $w_2, w_3$ are orthonormal, $w_2^* w_2 = 1$ and $w_2^* w_3 = 0$, so\n",
    "\\begin{align*}\n",
    "w_2^* u_3 &= c_2\n",
    "\\end{align*}\n",
    "Similarly $c_3 = w_3^* u_3$ and thus\n",
    "\\begin{align*}\n",
    "u_2 &= (w_2^* u_2) w_2 + (w_3^* u_2) w_3\n",
    "\\end{align*}\n",
    "Below we verify this relation by computing the RHS and comparing to the LHS."
   ]
  },
  {
   "cell_type": "code",
   "execution_count": 21,
   "id": "3a3f7750-037b-4e13-9d58-e05295f27f94",
   "metadata": {},
   "outputs": [
    {
     "data": {
      "text/plain": [
       "4-element Vector{Float64}:\n",
       "  0.7747660731389255\n",
       " -0.031065986119984606\n",
       "  0.6261833707858466\n",
       "  0.08165061279964726"
      ]
     },
     "execution_count": 21,
     "metadata": {},
     "output_type": "execute_result"
    }
   ],
   "source": [
    "# extract the needed columns of U, Ū\n",
    "\n",
    "w₂ = Ū[:,2]\n",
    "w₃ = Ū[:,3]\n",
    "\n",
    "u₂ = U[:,2]\n",
    "u₃ = U[:,3];\n",
    "\n",
    "# compute RHS of above eqn\n",
    "\n",
    "(w₂' * u₂)*w₂ + (w₃' * u₂)*w₃"
   ]
  },
  {
   "cell_type": "code",
   "execution_count": 22,
   "id": "905ca43d",
   "metadata": {},
   "outputs": [
    {
     "data": {
      "text/plain": [
       "4-element Vector{Float64}:\n",
       "  0.7747660731389239\n",
       " -0.031065986119988183\n",
       "  0.6261833707858492\n",
       "  0.08165061279963828"
      ]
     },
     "execution_count": 22,
     "metadata": {},
     "output_type": "execute_result"
    }
   ],
   "source": [
    "u₂"
   ]
  },
  {
   "cell_type": "code",
   "execution_count": 23,
   "id": "715a2054",
   "metadata": {},
   "outputs": [
    {
     "ename": "LoadError",
     "evalue": "UndefVarError: `u3` not defined in `Main`\nSuggestion: check for spelling errors or missing imports.",
     "output_type": "error",
     "traceback": [
      "UndefVarError: `u3` not defined in `Main`\nSuggestion: check for spelling errors or missing imports.",
      "",
      "Stacktrace:",
      " [1] top-level scope",
      "\u001b[90m   @\u001b[39m \u001b[90m\u001b[4mIn[23]:3\u001b[24m\u001b[39m"
     ]
    }
   ],
   "source": [
    "# do the same for u₃ in one step, showing norm(LHS-RHS) = 0, approximately\n",
    "\n",
    "norm(u3 - ((w2' * u3)*w2 + (w3' * u3)*w3))"
   ]
  },
  {
   "cell_type": "markdown",
   "id": "0cfa9d93",
   "metadata": {},
   "source": [
    "### Complex SVD with distinct singular values\n",
    "\n",
    "For complex matrices, the uniqueness of the SVD is somewhat disguised by the \n",
    "arbitrary complex constants of unit magnitude in the columns of $U$ and $V$. \n",
    "\n",
    "In this example, we construct a complex matrix $A$ with known SVD $A = \\bar{U} \\bar{\\Sigma} \\bar{V}^*$,\n",
    "compute its numerical SVD as $A = U \\Sigma V^*$, and then show that, though $\\bar{U} \\neq U$ and $\\bar{V} \\neq V$,\n",
    "their columns are related by $u_j = \\alpha_j \\bar u_j$ and $v_j = (1/\\bar{\\alpha}_j) \\bar v_j$ for some complex constants\n",
    "$\\alpha_j$ of unit magnitude. "
   ]
  },
  {
   "cell_type": "code",
   "execution_count": 24,
   "id": "19d2416c",
   "metadata": {},
   "outputs": [
    {
     "data": {
      "text/plain": [
       "4×4 Matrix{ComplexF64}:\n",
       " -0.758436+2.48234im  -2.96027-4.75232im  …   -2.71726+0.950538im\n",
       "  -1.52146+1.36792im  0.904358-1.35626im     -0.843716+1.75479im\n",
       "  -3.32631-1.8217im   -3.61299-2.7517im       -1.34005-3.43052im\n",
       " -0.530243-2.1338im     3.0481-1.28032im       2.27854-1.87531im"
      ]
     },
     "execution_count": 24,
     "metadata": {},
     "output_type": "execute_result"
    }
   ],
   "source": [
    "Ū, tmp = qr(randn(4,4) + im*randn(4,4))\n",
    "V̄, tmp = qr(randn(4,4) + im*randn(4,4))\n",
    "\n",
    "σ̄  = [10; 6.7; 3.1; 0.2]\n",
    "\n",
    "A = Ū*diagm(σ̄ )*V̄'"
   ]
  },
  {
   "cell_type": "code",
   "execution_count": 25,
   "id": "5533f3a2-e4b2-41cf-957d-b05c7f89c881",
   "metadata": {},
   "outputs": [],
   "source": [
    "U, σ, V = svd(A);"
   ]
  },
  {
   "cell_type": "code",
   "execution_count": 26,
   "id": "e442da0c-5115-4fb0-8941-57773e35843f",
   "metadata": {},
   "outputs": [
    {
     "data": {
      "text/plain": [
       "4×4 Matrix{ComplexF64}:\n",
       "  -0.492141+0.286486im    0.214363+0.508951im   …  -0.405764+0.150601im\n",
       " -0.0963839-0.025528im   0.0763658+0.647951im       0.255203-0.0624627im\n",
       "  -0.641799+0.0527088im    0.04668-0.498959im      -0.168821-0.285833im\n",
       "  -0.044628-0.499106im    0.101484-0.0889168im     -0.435328+0.666283im"
      ]
     },
     "execution_count": 26,
     "metadata": {},
     "output_type": "execute_result"
    }
   ],
   "source": [
    "U"
   ]
  },
  {
   "cell_type": "code",
   "execution_count": 27,
   "id": "78f21743-50b4-4a1c-945e-52a72a441f50",
   "metadata": {},
   "outputs": [
    {
     "data": {
      "text/plain": [
       "4×4 Matrix{ComplexF64}:\n",
       " -0.0562797-0.566665im   -0.542954+0.100917im   …   0.0160855-0.432512im\n",
       "  0.0632433-0.0770833im  -0.649334-0.0635447im     -0.0399201+0.259685im\n",
       "   0.218532-0.605745im    0.477533+0.151993im        0.328674-0.046629im\n",
       "   0.472579+0.166636im   0.0652341+0.118109im       -0.449059-0.657107im"
      ]
     },
     "execution_count": 27,
     "metadata": {},
     "output_type": "execute_result"
    }
   ],
   "source": [
    "Ū[:,:]  "
   ]
  },
  {
   "cell_type": "markdown",
   "id": "669f770f-78e3-4fd6-b506-97c43ba80bac",
   "metadata": {},
   "source": [
    "Note $U \\neq \\bar{U}$! But $u_2 = \\alpha_2 \\bar{u}_2$ for some unit-magnitude $\\alpha_2$."
   ]
  },
  {
   "cell_type": "code",
   "execution_count": 28,
   "id": "9af40cc6-d40e-4861-8b05-af8385cae92c",
   "metadata": {},
   "outputs": [
    {
     "data": {
      "text/plain": [
       "4-element Vector{ComplexF64}:\n",
       " -0.21321732129162763 - 0.9770047972764628im\n",
       " -0.21321732129162893 - 0.9770047972764628im\n",
       " -0.21321732129162785 - 0.9770047972764621im\n",
       " -0.21321732129162937 - 0.9770047972764642im"
      ]
     },
     "execution_count": 28,
     "metadata": {},
     "output_type": "execute_result"
    }
   ],
   "source": [
    "U[:,2] ./ Ū[:,2]"
   ]
  },
  {
   "cell_type": "code",
   "execution_count": 29,
   "id": "aca76804-8bef-45f5-bb49-1b37f94410b4",
   "metadata": {},
   "outputs": [
    {
     "data": {
      "text/plain": [
       "-0.21321732129162763 - 0.9770047972764628im"
      ]
     },
     "execution_count": 29,
     "metadata": {},
     "output_type": "execute_result"
    }
   ],
   "source": [
    "α₂ = U[1,2] ./ Ū[1,2]"
   ]
  },
  {
   "cell_type": "code",
   "execution_count": 30,
   "id": "98119be8-18ad-49fa-bf0d-184b6937156c",
   "metadata": {},
   "outputs": [
    {
     "data": {
      "text/plain": [
       "0.9999999999999997"
      ]
     },
     "execution_count": 30,
     "metadata": {},
     "output_type": "execute_result"
    }
   ],
   "source": [
    "abs(α₂)"
   ]
  },
  {
   "cell_type": "code",
   "execution_count": 31,
   "id": "6d35a1cb-78b3-4ee2-b4a7-8a6106c3b202",
   "metadata": {},
   "outputs": [
    {
     "data": {
      "text/plain": [
       "4-element Vector{ComplexF64}:\n",
       "  0.2143632407797098 + 0.5089510240344565im\n",
       " 0.07636583144007082 + 0.647951272680229im\n",
       " 0.04668004638953821 - 0.49895944500595224im\n",
       " 0.10148354438378968 - 0.08891681441078632im"
      ]
     },
     "execution_count": 31,
     "metadata": {},
     "output_type": "execute_result"
    }
   ],
   "source": [
    "U[:,2]"
   ]
  },
  {
   "cell_type": "code",
   "execution_count": 32,
   "id": "a5acc209-1ed0-4ea2-81b5-8f9e00124d93",
   "metadata": {},
   "outputs": [
    {
     "data": {
      "text/plain": [
       "4-element Vector{ComplexF64}:\n",
       "  0.2143632407797098 + 0.5089510240344565im\n",
       " 0.07636583144006995 + 0.6479512726802289im\n",
       " 0.04668004638953843 - 0.4989594450059526im\n",
       " 0.10148354438378963 - 0.08891681441078603im"
      ]
     },
     "execution_count": 32,
     "metadata": {},
     "output_type": "execute_result"
    }
   ],
   "source": [
    "α₂ * Ū[:,2]"
   ]
  },
  {
   "cell_type": "markdown",
   "id": "ad82f8af-b8bb-423d-8151-ca255d5c6e3d",
   "metadata": {},
   "source": [
    "And  $V \\neq \\bar{V}$, but $v_2 = (1/\\bar{\\alpha}_2) \\bar{v}_2$. (The bar on $\\alpha_2$ means complex conjugate.)"
   ]
  },
  {
   "cell_type": "code",
   "execution_count": 33,
   "id": "8bfcc07f-3448-4f46-8171-ffbd328f8758",
   "metadata": {},
   "outputs": [
    {
     "data": {
      "text/plain": [
       "4-element Vector{ComplexF64}:\n",
       "   0.4120250207096796 - 0.0im\n",
       " -0.33365519709833225 + 0.29727360701958255im\n",
       "  0.18400880581687903 + 0.5886212634200311im\n",
       "   0.4508959229328651 - 0.2165562943952477im"
      ]
     },
     "execution_count": 33,
     "metadata": {},
     "output_type": "execute_result"
    }
   ],
   "source": [
    "V[:,2]"
   ]
  },
  {
   "cell_type": "code",
   "execution_count": 34,
   "id": "f86d7f34-5872-456e-9575-570911abf1a4",
   "metadata": {},
   "outputs": [
    {
     "data": {
      "text/plain": [
       "4-element Vector{ComplexF64}:\n",
       "  0.4120250207096798 + 4.85722573273506e-16im\n",
       " -0.3336551970983322 + 0.29727360701958244im\n",
       "  0.1840088058168785 + 0.588621263420031im\n",
       "  0.4508959229328649 - 0.21655629439524718im"
      ]
     },
     "execution_count": 34,
     "metadata": {},
     "output_type": "execute_result"
    }
   ],
   "source": [
    "conj(1/α₂) * V̄[:,2]"
   ]
  }
 ],
 "metadata": {
  "kernelspec": {
   "display_name": "Julia 1.11.7",
   "language": "julia",
   "name": "julia-1.11"
  },
  "language_info": {
   "file_extension": ".jl",
   "mimetype": "application/julia",
   "name": "julia",
   "version": "1.11.7"
  }
 },
 "nbformat": 4,
 "nbformat_minor": 5
}
